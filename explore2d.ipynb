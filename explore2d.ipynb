{
 "cells": [
  {
   "cell_type": "code",
   "execution_count": null,
   "metadata": {},
   "outputs": [],
   "source": [
    "import numpy as np\n",
    "import matplotlib.pyplot as plt\n",
    "from src.fusion2d import main as fusion2d\n",
    "from src.tools import *\n",
    "\n",
    "matplotlib_settings()"
   ]
  },
  {
   "cell_type": "code",
   "execution_count": null,
   "metadata": {},
   "outputs": [],
   "source": [
    "# set params manually. see argparse settings in fusion2d for details.\n",
    "# datafile = \"dh_dh_exp0_tr8_xr3_yr3_en1.npy\"\n",
    "# datafile = \"dh_dh_exp0_tr8_xr5_yr5_en1.npy\"\n",
    "datafile = \"dh_dh_exp0_tr8_xr10_yr10_en1.npy\"\n",
    "valid_n = 500\n",
    "epochs = 3000\n",
    "bs = 128\n",
    "lr = 5e-5\n",
    "l1,l2 = 2759,296\n",
    "dp1,dp2 = 0.3,0.0\n",
    "DEVRUN = False\n",
    "MAKEFIGS = False\n",
    "MAKEVIDS = False\n",
    "\n",
    "out = fusion2d(datafile,valid_n,epochs,bs,lr,l1,l2,dp1,dp2,DEVRUN,MAKEFIGS,MAKEVIDS)\n",
    "(train_x, train_y, train_r), (valid_x, valid_y, valid_r) = out\n"
   ]
  },
  {
   "cell_type": "code",
   "execution_count": null,
   "metadata": {},
   "outputs": [],
   "source": [
    "_, ax = plot_2d_result(train_x, train_y, train_r, t=0, diff=True)\n",
    "for pos in ['top', 'bottom', 'right', 'left']:\n",
    "    ax[2].spines[pos].set_linewidth(1.5)\n",
    "plt.savefig(f\"figs/fusion2d_train.png\",transparent=False, bbox_inches='tight', dpi=300)\n",
    "\n",
    "\n",
    "_, ax = plot_2d_result(train_x, train_y, train_r, t=0, diff=True, \n",
    "                        apply_map=lambda x: np.log(psd2(x)))\n",
    "for pos in ['top', 'bottom', 'right', 'left']:\n",
    "    ax[2].spines[pos].set_linewidth(1.5)\n",
    "plt.savefig(f\"figs/fusion2d_train_psd.png\",transparent=False, bbox_inches='tight', dpi=300)\n",
    "\n",
    "\n",
    "_, ax = plot_2d_result(valid_x, valid_y, valid_r, t=0, diff=True)\n",
    "\n",
    "plt.savefig(f\"figs/fusion2d_valid.png\",transparent=False, bbox_inches='tight', dpi=300)\n",
    "\n",
    "\n",
    "_, ax = plot_2d_result(valid_x, valid_y, valid_r, t=0, diff=True, \n",
    "                        apply_map=lambda x: np.log(psd2(x)))\n",
    "for pos in ['top', 'bottom', 'right', 'left']:\n",
    "    ax[2].spines[pos].set_linewidth(1.5)\n",
    "plt.savefig(f\"figs/fusion2d_valid_psd.png\",transparent=False, bbox_inches='tight', dpi=300)\n"
   ]
  },
  {
   "cell_type": "code",
   "execution_count": null,
   "metadata": {},
   "outputs": [],
   "source": [
    "train_r.reshape((*train_r.shape[1:],-1)).shape"
   ]
  },
  {
   "cell_type": "code",
   "execution_count": null,
   "metadata": {},
   "outputs": [],
   "source": [
    "import seaborn\n",
    "seaborn.set()\n",
    "\n",
    "n = 500\n",
    "\n",
    "def vectorize_2d_timeseries(x):\n",
    "    return x.reshape(-1,np.product(x.shape[1:]))\n",
    "\n",
    "fig,ax = plt.subplots(2,1,figsize=(4,4),constrained_layout=True)\n",
    "ax[0].plot(mse_snapshots(*map(vectorize,[train_r,train_y]))[:n],'-',label=\"train\")\n",
    "ax[0].plot(mse_snapshots(*map(vectorize,[valid_r,valid_y])),'-',label=\"valid\")\n",
    "ax[0].set_xlim(0,n)\n",
    "ax[0].legend(loc='right')\n",
    "\n",
    "# ax[1].plot(mse_snapshots(np.repeat(train_x,2048//32,axis=1),train_y)[:500])\n",
    "# ax[1].plot(mse_snapshots(train_r,train_y)[:500])\n",
    "\n",
    "# ax[2].plot(mse_snapshots(np.repeat(valid_x,2048//32,axis=1),valid_y)[:500])\n",
    "# ax[2].plot(mse_snapshots(valid_r,valid_y)[:500])"
   ]
  },
  {
   "cell_type": "code",
   "execution_count": null,
   "metadata": {},
   "outputs": [],
   "source": []
  }
 ],
 "metadata": {
  "kernelspec": {
   "display_name": "ml2",
   "language": "python",
   "name": "python3"
  },
  "language_info": {
   "codemirror_mode": {
    "name": "ipython",
    "version": 3
   },
   "file_extension": ".py",
   "mimetype": "text/x-python",
   "name": "python",
   "nbconvert_exporter": "python",
   "pygments_lexer": "ipython3",
   "version": "3.10.8"
  },
  "vscode": {
   "interpreter": {
    "hash": "bf6f22fcd0504dd53876d49315bbfc0c5c6ab0e335b46c80cbf13baab095cef5"
   }
  }
 },
 "nbformat": 4,
 "nbformat_minor": 2
}
